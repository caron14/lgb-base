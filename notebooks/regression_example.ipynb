{
 "cells": [
  {
   "cell_type": "code",
   "execution_count": 1,
   "metadata": {},
   "outputs": [],
   "source": [
    "import os\n",
    "import sys\n",
    "\n",
    "import lightgbm as lgb\n",
    "import numpy as np\n",
    "from sklearn.datasets import fetch_california_housing\n",
    "from sklearn.metrics import mean_squared_error\n",
    "from sklearn.model_selection import train_test_split\n",
    "\n",
    "current_dir_path = os.path.abspath(os.getcwd())\n",
    "parent_dir_path = os.path.dirname(current_dir_path)\n",
    "sys.path.append(parent_dir_path)\n",
    "from src import LGBM_Regressor"
   ]
  },
  {
   "cell_type": "code",
   "execution_count": 2,
   "metadata": {},
   "outputs": [],
   "source": [
    "# California Housing データセットをロードする\n",
    "california = fetch_california_housing()\n",
    "X = california.data\n",
    "y = california.target\n",
    "\n",
    "# データを分割する\n",
    "X_train, X_test, y_train, y_test = train_test_split(\n",
    "    X, y, test_size=0.2, random_state=42\n",
    ")"
   ]
  },
  {
   "cell_type": "code",
   "execution_count": 6,
   "metadata": {},
   "outputs": [
    {
     "name": "stdout",
     "output_type": "stream",
     "text": [
      "Training until validation scores don't improve for 50 rounds\n",
      "[100]\tvalid_0's rmse: 0.462481\n",
      "[200]\tvalid_0's rmse: 0.446602\n",
      "[300]\tvalid_0's rmse: 0.440095\n",
      "[400]\tvalid_0's rmse: 0.437232\n",
      "[500]\tvalid_0's rmse: 0.434209\n",
      "[600]\tvalid_0's rmse: 0.432524\n",
      "[700]\tvalid_0's rmse: 0.431761\n",
      "Early stopping, best iteration is:\n",
      "[742]\tvalid_0's rmse: 0.431248\n"
     ]
    }
   ],
   "source": [
    "params = {\n",
    "    \"boosting_type\": \"gbdt\",\n",
    "    \"objective\": \"regression\",\n",
    "    \"metric\": \"rmse\",\n",
    "    \"verbosity\": -1,\n",
    "    \"random_state\": 42,\n",
    "    \"n_estimators\": 100,\n",
    "    \"learning_rate\": 0.1,  # default: 0.1\n",
    "    \"feature_fraction\": 0.9,\n",
    "    \"bagging_fraction\": 0.8,\n",
    "    \"num_leaves\": 31,  # default: 31\n",
    "    \"max_depth\": -1,  # default: -1\n",
    "    \"importance_type\": \"gain\",  # default:'split', 'gain'\n",
    "}\n",
    "\n",
    "# Trian a model\n",
    "model = LGBM_Regressor()\n",
    "model.train(params, X_train, y_train, X_test, y_test, num_boost_round=5000)\n",
    "# model.train(params, X_train, y_train, n_estimators=100, num_boost_round=5000, cv=5)"
   ]
  },
  {
   "cell_type": "code",
   "execution_count": 7,
   "metadata": {},
   "outputs": [
    {
     "name": "stdout",
     "output_type": "stream",
     "text": [
      "RMSE: 0.4312483769641803\n"
     ]
    }
   ],
   "source": [
    "# Predict on test set\n",
    "y_pred = model.predict(X_test)\n",
    "\n",
    "# Calculate the RMSE metric\n",
    "rmse = np.sqrt(mean_squared_error(y_test, y_pred))\n",
    "print(f\"RMSE: {rmse}\")"
   ]
  },
  {
   "cell_type": "code",
   "execution_count": null,
   "metadata": {},
   "outputs": [],
   "source": []
  }
 ],
 "metadata": {
  "kernelspec": {
   "display_name": "venv",
   "language": "python",
   "name": "python3"
  },
  "language_info": {
   "codemirror_mode": {
    "name": "ipython",
    "version": 3
   },
   "file_extension": ".py",
   "mimetype": "text/x-python",
   "name": "python",
   "nbconvert_exporter": "python",
   "pygments_lexer": "ipython3",
   "version": "3.9.11"
  }
 },
 "nbformat": 4,
 "nbformat_minor": 2
}
